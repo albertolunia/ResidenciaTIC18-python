{
 "cells": [
  {
   "cell_type": "markdown",
   "metadata": {},
   "source": [
    "# PP - PROGRAMAÇÃO EM PYTHON - PP-P001"
   ]
  },
  {
   "cell_type": "markdown",
   "metadata": {},
   "source": [
    "## Exercício 2: Manipulação de variáveis de tipo inteiro, explorando as características e os limites."
   ]
  },
  {
   "cell_type": "markdown",
   "metadata": {},
   "source": [
    "### Demonstre como funcionam os operadores aritméticos e aritméticos compostos em Python e destaque as principais novidades e diferenças em relação ao conjunto de operadores com inteiros disponíveis em C/C++ ;"
   ]
  },
  {
   "cell_type": "code",
   "execution_count": null,
   "metadata": {},
   "outputs": [],
   "source": [
    "# Operadores aritméticos em Python\n",
    "a = 10\n",
    "b = 3\n",
    "\n",
    "print(f\"Adição: {a + b}\") \n",
    "print(f\"Subtração: {a - b}\")\n",
    "print(f\"Multiplicação: {a * b}\")\n",
    "print(f\"Divisão: {a / b}\")\n",
    "print(f\"Divisão inteira: {a // b}\")\n",
    "print(f\"Módulo: {a % b}\")\n",
    "print(f\"Potência: {a ** b}\")\n",
    "\n",
    "# Operadores aritméticos compostos\n",
    "\n",
    "a += b\n",
    "print(f\"A += B: {a}\")\n",
    "\n",
    "a -= b\n",
    "print(f\"A -= B: {a}\")\n",
    "\n",
    "a *= b\n",
    "print(f\"A *= B: {a}\")\n",
    "\n",
    "a /= b\n",
    "print(f\"A /= B: {a}\")\n",
    "\n",
    "a //= b\n",
    "print(f\"A //= B: {a}\")\n",
    "\n",
    "a %= b\n",
    "print(f\"A %= B: {a}\") \n",
    "\n",
    "a **= b\n",
    "print(f\"A **= B: {a}\")\n",
    "\n",
    "\"\"\"\n",
    "Principais diferenças em relação ao conjunto de operadores com inteiros disponíveis em C/C++\n",
    "Em Python, a divisão de inteiros resulta em um número de ponto flutuante, enquanto em C/C++ resulta em um número inteiro.\n",
    "Em Python, o operador de potência é **, enquanto em C/C++ é necessario importar a biblioteca math para utilziar a função pow().\n",
    "Em Python, não há operadores de incremento e decremento (++, --), enquanto em C/C++ há\"\"\"\n"
   ]
  },
  {
   "cell_type": "markdown",
   "metadata": {},
   "source": [
    "### Demonstre a possibilidade de representar números inteiros significativamente grandes calculando o fatorial de 30 e comparando o resultado com o maior valor inteiro que pode ser representado em C/C++;"
   ]
  },
  {
   "cell_type": "code",
   "execution_count": 1,
   "metadata": {},
   "outputs": [
    {
     "name": "stdout",
     "output_type": "stream",
     "text": [
      "Fatorial de 30: 265252859812191058636308480000000\n",
      "Maior valor inteiro em c/c++: 18446744073709551615\n"
     ]
    }
   ],
   "source": [
    "import math\n",
    "\n",
    "fatorial = math.factorial(30)\n",
    "print(f\"Fatorial de 30: {fatorial}\")\n",
    "print(f\"Maior valor inteiro em c/c++: {2**64 - 1}\")\n"
   ]
  },
  {
   "cell_type": "markdown",
   "metadata": {},
   "source": [
    "### As variáveis numéricas são imutáveis. Demonstre com exemplos as implicações desta afirmação;"
   ]
  },
  {
   "cell_type": "code",
   "execution_count": 9,
   "metadata": {},
   "outputs": [
    {
     "name": "stdout",
     "output_type": "stream",
     "text": [
      "Antes da operação: a=10, b=10\n",
      "Depois da operação: a=15, b=10\n"
     ]
    }
   ],
   "source": [
    "a = 10\n",
    "b = a\n",
    "print(f\"Antes da operação: a={a}, b={b}\")\n",
    "\n",
    "a += 5\n",
    "print(f\"Depois da operação: a={a}, b={b}\")"
   ]
  },
  {
   "cell_type": "markdown",
   "metadata": {},
   "source": [
    "### Verifique quais métodos estão disponíveis para as variáveis inteiras;"
   ]
  },
  {
   "cell_type": "code",
   "execution_count": 10,
   "metadata": {},
   "outputs": [
    {
     "name": "stdout",
     "output_type": "stream",
     "text": [
      "['__abs__', '__add__', '__and__', '__bool__', '__ceil__', '__class__', '__delattr__', '__dir__', '__divmod__', '__doc__', '__eq__', '__float__', '__floor__', '__floordiv__', '__format__', '__ge__', '__getattribute__', '__getnewargs__', '__getstate__', '__gt__', '__hash__', '__index__', '__init__', '__init_subclass__', '__int__', '__invert__', '__le__', '__lshift__', '__lt__', '__mod__', '__mul__', '__ne__', '__neg__', '__new__', '__or__', '__pos__', '__pow__', '__radd__', '__rand__', '__rdivmod__', '__reduce__', '__reduce_ex__', '__repr__', '__rfloordiv__', '__rlshift__', '__rmod__', '__rmul__', '__ror__', '__round__', '__rpow__', '__rrshift__', '__rshift__', '__rsub__', '__rtruediv__', '__rxor__', '__setattr__', '__sizeof__', '__str__', '__sub__', '__subclasshook__', '__truediv__', '__trunc__', '__xor__', 'as_integer_ratio', 'bit_count', 'bit_length', 'conjugate', 'denominator', 'from_bytes', 'imag', 'numerator', 'real', 'to_bytes']\n"
     ]
    }
   ],
   "source": [
    "x = 10\n",
    "print(dir(x))\n"
   ]
  },
  {
   "cell_type": "markdown",
   "metadata": {},
   "source": [
    "## Exercício 3: Manipulação de variáveis de tipo string e explorando o uso de print."
   ]
  },
  {
   "cell_type": "markdown",
   "metadata": {},
   "source": [
    "### Imprima na tela, utilizando print, cada um dos caracteres numéricos e seu correspondente código numérico. Pesquise como modificar o comportamento do print para imprimir como caractere e como número. Exemplo:‘0’ - 48 / ‘1’ - 49 / ‘9’ - 57"
   ]
  },
  {
   "cell_type": "code",
   "execution_count": 14,
   "metadata": {},
   "outputs": [
    {
     "name": "stdout",
     "output_type": "stream",
     "text": [
      "'0': 48\n",
      "'1': 49\n",
      "'2': 50\n",
      "'3': 51\n",
      "'4': 52\n",
      "'5': 53\n",
      "'6': 54\n",
      "'7': 55\n",
      "'8': 56\n",
      "'9': 57\n"
     ]
    }
   ],
   "source": [
    "for i in range(10):\n",
    "    print(f\"'{i}': {ord(chr(i))}\")"
   ]
  },
  {
   "cell_type": "markdown",
   "metadata": {},
   "source": [
    "### Modifique o exercício anterior para que a saída imprima também o código numérico em octal e em hexadecimal."
   ]
  },
  {
   "cell_type": "code",
   "execution_count": 16,
   "metadata": {},
   "outputs": [
    {
     "name": "stdout",
     "output_type": "stream",
     "text": [
      "'0': 48 : 0o0 : 0x0\n",
      "'1': 49 : 0o1 : 0x1\n",
      "'2': 50 : 0o2 : 0x2\n",
      "'3': 51 : 0o3 : 0x3\n",
      "'4': 52 : 0o4 : 0x4\n",
      "'5': 53 : 0o5 : 0x5\n",
      "'6': 54 : 0o6 : 0x6\n",
      "'7': 55 : 0o7 : 0x7\n",
      "'8': 56 : 0o10 : 0x8\n",
      "'9': 57 : 0o11 : 0x9\n"
     ]
    }
   ],
   "source": [
    "for i in range(10):\n",
    "    print(f\"'{i}': {ord(chr(i))} : {oct(i)} : {hex(i)}\")"
   ]
  },
  {
   "cell_type": "markdown",
   "metadata": {},
   "source": [
    "### Acrescente ao código do exercício anterior a possibilidade de ler um caractere qualquer e imprima no mesmo formato do inciso anterior. Pesquise como ler um valor da entrada padrão."
   ]
  },
  {
   "cell_type": "code",
   "execution_count": 34,
   "metadata": {},
   "outputs": [
    {
     "name": "stdout",
     "output_type": "stream",
     "text": [
      "Digite um valor:\n",
      "'ç': 231 : 0o347 : 0xe7\n"
     ]
    }
   ],
   "source": [
    "print(\"Digite um valor:\")\n",
    "i = input()\n",
    "print(f\"'{i}': {ord(i)} : {oct(ord(i))} : {hex(ord(i))}\")"
   ]
  },
  {
   "cell_type": "markdown",
   "metadata": {},
   "source": [
    "### Pesquise como trabalha Python os caracteres especiais, ‘ç’ e ‘ã’ por exemplo. Acrescente no código do exercício anterior um exemplo que demonstra como usar este recurso."
   ]
  },
  {
   "cell_type": "code",
   "execution_count": 36,
   "metadata": {},
   "outputs": [
    {
     "name": "stdout",
     "output_type": "stream",
     "text": [
      "Valor de 'ç' na tabela ascii: 231\n",
      "Valor de 'ã' na tabela ascii: 227\n",
      "Digite um valor:\n",
      "'ç': 231 : 0o347 : 0xe7\n"
     ]
    }
   ],
   "source": [
    "print(f\"Valor de 'ç' na tabela ascii: {ord('ç')}\")\n",
    "print(f\"Valor de 'ã' na tabela ascii: {ord('ã')}\")\n",
    "\n",
    "print(\"Digite um valor:\")\n",
    "i = input()\n",
    "print(f\"'{i}': {ord(i)} : {oct(ord(i))} : {hex(ord(i))}\")\n"
   ]
  },
  {
   "cell_type": "markdown",
   "metadata": {},
   "source": [
    "## Exercício 4: Manipulação de variáveis de tipo string e explorando os métodos da classe."
   ]
  },
  {
   "cell_type": "markdown",
   "metadata": {},
   "source": [
    "### Declare uma variável nome atribuindo a ela seu nome completo;"
   ]
  },
  {
   "cell_type": "code",
   "execution_count": 56,
   "metadata": {},
   "outputs": [],
   "source": [
    "nome = \"Alberto Henrique Miranda de Jesus\""
   ]
  },
  {
   "cell_type": "markdown",
   "metadata": {},
   "source": [
    "###  Pesquise por funcionalidades já implementadas nas strings e separe em duas variáveis novas seu nome do seu sobrenome;"
   ]
  },
  {
   "cell_type": "code",
   "execution_count": 57,
   "metadata": {},
   "outputs": [
    {
     "name": "stdout",
     "output_type": "stream",
     "text": [
      "Nome: Alberto\n",
      "Sobrenome: Henrique\n"
     ]
    }
   ],
   "source": [
    "nome, sobrenome = nome.split(\" \")[0:2]\n",
    "print(f\"Nome: {nome}\")\n",
    "print(f\"Sobrenome: {sobrenome}\")"
   ]
  },
  {
   "cell_type": "markdown",
   "metadata": {},
   "source": [
    "### Verifique qual das duas novas variáveis antecede a outra na ordem alfabética;"
   ]
  },
  {
   "cell_type": "code",
   "execution_count": 58,
   "metadata": {},
   "outputs": [
    {
     "name": "stdout",
     "output_type": "stream",
     "text": [
      "Nome antecede Sobrenome\n"
     ]
    }
   ],
   "source": [
    "if nome[0] < sobrenome[0]:\n",
    "    print(f\"Nome antecede Sobrenome\")\n",
    "else:\n",
    "    print(f\"Sobrenome antecede Nome\")"
   ]
  },
  {
   "cell_type": "markdown",
   "metadata": {},
   "source": [
    "### Verifique a quantidade de caracteres de cada uma das novas variáveis;"
   ]
  },
  {
   "cell_type": "code",
   "execution_count": 59,
   "metadata": {},
   "outputs": [
    {
     "name": "stdout",
     "output_type": "stream",
     "text": [
      "Quantidade de caracteres em 'nome': 7\n",
      "Quantidade de caracteres em 'sobrenome': 8\n"
     ]
    }
   ],
   "source": [
    "print(f\"Quantidade de caracteres em 'nome': {len(nome)}\")\n",
    "print(f\"Quantidade de caracteres em 'sobrenome': {len(sobrenome)}\")"
   ]
  },
  {
   "cell_type": "markdown",
   "metadata": {},
   "source": [
    "### Verifique se seu nome é uma palíndromo;"
   ]
  },
  {
   "cell_type": "code",
   "execution_count": 60,
   "metadata": {},
   "outputs": [
    {
     "name": "stdout",
     "output_type": "stream",
     "text": [
      "Nome não é um palíndromo\n"
     ]
    }
   ],
   "source": [
    "if nome == nome[::-1]:\n",
    "    print(\"O nome é um palíndromo\")\n",
    "else:\n",
    "    print(\"O nome não é um palíndromo\")"
   ]
  },
  {
   "cell_type": "markdown",
   "metadata": {},
   "source": [
    "## Exercício 5: Manipulação de variáveis de ponto flutuante, explorando as características e os limites."
   ]
  },
  {
   "cell_type": "markdown",
   "metadata": {},
   "source": [
    "### Demonstre como funcionam os operadores aritméticos e aritméticos compostos em Python;"
   ]
  },
  {
   "cell_type": "code",
   "execution_count": 61,
   "metadata": {},
   "outputs": [
    {
     "name": "stdout",
     "output_type": "stream",
     "text": [
      "Adição: 14.2\n",
      "Subtração: 6.8\n",
      "Multiplicação: 38.85\n",
      "Divisão: 2.8378378378378377\n",
      "Divisão inteira: 2.0\n",
      "Módulo: 3.0999999999999996\n",
      "Potência: 6003.443207363319\n",
      "A += B: 14.2\n",
      "A -= B: 10.5\n",
      "A *= B: 38.85\n",
      "A /= B: 10.5\n",
      "A //= B: 2.0\n",
      "A %= B: 2.0\n",
      "A **= B: 12.99603834169977\n"
     ]
    }
   ],
   "source": [
    "# Operadores aritméticos em Python\n",
    "a = 10.5\n",
    "b = 3.7\n",
    "\n",
    "print(f\"Adição: {a + b}\") \n",
    "print(f\"Subtração: {a - b}\")\n",
    "print(f\"Multiplicação: {a * b}\")\n",
    "print(f\"Divisão: {a / b}\")\n",
    "print(f\"Divisão inteira: {a // b}\")\n",
    "print(f\"Módulo: {a % b}\")\n",
    "print(f\"Potência: {a ** b}\")\n",
    "\n",
    "# Operadores aritméticos compostos\n",
    "\n",
    "a += b\n",
    "print(f\"A += B: {a}\")\n",
    "\n",
    "a -= b\n",
    "print(f\"A -= B: {a}\")\n",
    "\n",
    "a *= b\n",
    "print(f\"A *= B: {a}\")\n",
    "\n",
    "a /= b\n",
    "print(f\"A /= B: {a}\")\n",
    "\n",
    "a //= b\n",
    "print(f\"A //= B: {a}\")\n",
    "\n",
    "a %= b\n",
    "print(f\"A %= B: {a}\") \n",
    "\n",
    "a **= b\n",
    "print(f\"A **= B: {a}\")"
   ]
  },
  {
   "cell_type": "markdown",
   "metadata": {},
   "source": [
    "### Utilizando o operador de exponenciação mostre qual a maior e a menor potência de 2 que pode ser representada com variáveis de ponto flutuante."
   ]
  },
  {
   "cell_type": "code",
   "execution_count": 62,
   "metadata": {},
   "outputs": [
    {
     "name": "stdout",
     "output_type": "stream",
     "text": [
      "Maior potencia de 2: 179769313486231590772930519078902473361797697894230657273430081157732675805500963132708477322407536021120113879871393357658789768814416622492847430639474124377767893424865485276302219601246094119453082952085005768838150682342462881473913110540827237163350510684586298239947245938479716304835356329624224137216\n",
      "Menor potencia de 2: 4.450147717014403e-308\n"
     ]
    }
   ],
   "source": [
    "import sys\n",
    "\n",
    "print(f\"Maior potencia de 2: {2 ** sys.float_info.max_exp}\")\n",
    "print(f\"Menor potencia de 2: {2 ** sys.float_info.min_exp}\")"
   ]
  },
  {
   "cell_type": "markdown",
   "metadata": {},
   "source": [
    "### As variáveis numéricas são imutáveis. Demonstre com exemplos as implicações desta afirmação;"
   ]
  },
  {
   "cell_type": "code",
   "execution_count": 63,
   "metadata": {},
   "outputs": [
    {
     "name": "stdout",
     "output_type": "stream",
     "text": [
      "Antes da operação: a=10.5, b=10.5\n",
      "Depois da operação: a=15.9, b=10.5\n"
     ]
    }
   ],
   "source": [
    "a = 10.5\n",
    "b = a\n",
    "print(f\"Antes da operação: a={a}, b={b}\")\n",
    "\n",
    "a += 5.4\n",
    "print(f\"Depois da operação: a={a}, b={b}\")"
   ]
  },
  {
   "cell_type": "markdown",
   "metadata": {},
   "source": [
    "### Verifique quais métodos estão disponíveis para as variáveis de ponto flutuante;"
   ]
  },
  {
   "cell_type": "code",
   "execution_count": 65,
   "metadata": {},
   "outputs": [
    {
     "name": "stdout",
     "output_type": "stream",
     "text": [
      "['__abs__', '__add__', '__bool__', '__ceil__', '__class__', '__delattr__', '__dir__', '__divmod__', '__doc__', '__eq__', '__float__', '__floor__', '__floordiv__', '__format__', '__ge__', '__getattribute__', '__getformat__', '__getnewargs__', '__getstate__', '__gt__', '__hash__', '__init__', '__init_subclass__', '__int__', '__le__', '__lt__', '__mod__', '__mul__', '__ne__', '__neg__', '__new__', '__pos__', '__pow__', '__radd__', '__rdivmod__', '__reduce__', '__reduce_ex__', '__repr__', '__rfloordiv__', '__rmod__', '__rmul__', '__round__', '__rpow__', '__rsub__', '__rtruediv__', '__setattr__', '__sizeof__', '__str__', '__sub__', '__subclasshook__', '__truediv__', '__trunc__', 'as_integer_ratio', 'conjugate', 'fromhex', 'hex', 'imag', 'is_integer', 'real']\n"
     ]
    }
   ],
   "source": [
    "a = 10.5\n",
    "print(f\"{dir(a)}\")"
   ]
  },
  {
   "cell_type": "markdown",
   "metadata": {},
   "source": [
    "## Exercício 6: Manipulando listas"
   ]
  },
  {
   "cell_type": "markdown",
   "metadata": {},
   "source": [
    "### Dado o seguinte código, e antes de implementar, veja o que será impresso em cada caso:"
   ]
  },
  {
   "cell_type": "code",
   "execution_count": 66,
   "metadata": {},
   "outputs": [
    {
     "name": "stdout",
     "output_type": "stream",
     "text": [
      "[9, 8, 7, 6, 5, 4, 3, 2, 1]\n",
      "[9]\n",
      "[1, 2, 3, 4, 5, 6, 7, 8]\n",
      "[9, 7, 5, 3, 1]\n",
      "[8, 9]\n",
      "[1, 2, 3, 4, 5, 6, 7]\n"
     ]
    }
   ],
   "source": [
    "L = [1, 2, 3, 4, 5, 6, 7, 8, 9]\n",
    "print(L[::-1])\n",
    "print(L[-1::])\n",
    "print(L[:-1:])\n",
    "print(L[::-2])\n",
    "print(L[-2::])\n",
    "print(L[:-2:])"
   ]
  },
  {
   "cell_type": "markdown",
   "metadata": {},
   "source": [
    "### Descubra qual o signo de um usuário de acordo com seu ano de nascimento"
   ]
  },
  {
   "cell_type": "code",
   "execution_count": 70,
   "metadata": {},
   "outputs": [
    {
     "name": "stdout",
     "output_type": "stream",
     "text": [
      "Insira seu ano de nascimento:\n",
      "Seu signo chinês é: Coelho\n"
     ]
    }
   ],
   "source": [
    "print(\"Insira seu ano de nascimento:\")\n",
    "ano = int(input())\n",
    "print(f\"Seu signo chinês é: \", end=\"\")\n",
    "\n",
    "match (ano % 12):\n",
    "    case 0:\n",
    "        print(\"Macaco\")\n",
    "    case 1:\n",
    "        print(\"Galo\")\n",
    "    case 2:\n",
    "        print(\"Cão\")\n",
    "    case 3:\n",
    "        print(\"Porco\")\n",
    "    case 4:\n",
    "        print(\"Rato\")\n",
    "    case 5:\n",
    "        print(\"Boi\")\n",
    "    case 6:\n",
    "        print(\"Tigre\")\n",
    "    case 7:\n",
    "        print(\"Coelho\")\n",
    "    case 8:\n",
    "        print(\"Dragão\")\n",
    "    case 9:\n",
    "        print(\"Serpente\")\n",
    "    case 10:\n",
    "        print(\"Cavalo\")\n",
    "    case 11:\n",
    "        print(\"Carneiro\")\n",
    "    case _:\n",
    "        print(\"Valor inválido\")"
   ]
  }
 ],
 "metadata": {
  "kernelspec": {
   "display_name": "Python 3",
   "language": "python",
   "name": "python3"
  },
  "language_info": {
   "codemirror_mode": {
    "name": "ipython",
    "version": 3
   },
   "file_extension": ".py",
   "mimetype": "text/x-python",
   "name": "python",
   "nbconvert_exporter": "python",
   "pygments_lexer": "ipython3",
   "version": "3.11.5"
  }
 },
 "nbformat": 4,
 "nbformat_minor": 2
}
