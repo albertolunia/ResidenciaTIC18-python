{
 "cells": [
  {
   "cell_type": "markdown",
   "metadata": {},
   "source": [
    "# INSTRUÇÃO PRÁTICA PP-P002"
   ]
  },
  {
   "cell_type": "markdown",
   "metadata": {},
   "source": [
    "Objetivos:\n",
    "\n",
    "<p> Dominar as características básicas dos tipos de dados\n",
    "avançados: dicionários e conjuntos </p>\n",
    "\n",
    "<p> Explorar a implementação e o uso de estruturas de controle\n",
    "de fluxo, estruturas condicionais e de repetição, em python </p>"
   ]
  },
  {
   "cell_type": "markdown",
   "metadata": {},
   "source": [
    "## Exercício 1: Utilizando estruturas de controle de fluxo e listas.\n",
    "\n",
    "<p>Para controlar os compromissos do dia a dia podemos utilizar um uma lista de\n",
    "tarefas. Com alguns dos recursos básicos da linguagem que já conhecemos podemos\n",
    "implementar o aplicativo ToDoList que permita:</p>"
   ]
  },
  {
   "cell_type": "markdown",
   "metadata": {},
   "source": [
    "### Listar as tarefas que estão registradas."
   ]
  },
  {
   "cell_type": "code",
   "execution_count": 7,
   "metadata": {},
   "outputs": [],
   "source": [
    "def listar_tarefas(tarefas):\n",
    "    print()\n",
    "    if len(tarefas) == 0:\n",
    "        print('Nenhuma tarefa cadastrada.')\n",
    "    else:\n",
    "        for tarefa in tarefas:\n",
    "            print(tarefa)"
   ]
  },
  {
   "cell_type": "markdown",
   "metadata": {},
   "source": [
    "### Registrar uma nova tarefa"
   ]
  },
  {
   "cell_type": "code",
   "execution_count": 2,
   "metadata": {},
   "outputs": [],
   "source": [
    "def registrar_tarefa(tarefas):\n",
    "    id_tarefa = len(tarefas) + 1\n",
    "    print(\"\\nDigite a tarefa que deseja registrar: \")\n",
    "    tarefa = input()\n",
    "    \n",
    "    tarefa = tarefa.capitalize() + '[ ]'\n",
    "    tarefas.append(f\"{id_tarefa}. {tarefa}\")\n",
    "    print(\"Tarefa registrada!!!\")"
   ]
  },
  {
   "cell_type": "markdown",
   "metadata": {},
   "source": [
    "### Marcar uma tarefa como realizada"
   ]
  },
  {
   "cell_type": "code",
   "execution_count": 3,
   "metadata": {},
   "outputs": [],
   "source": [
    "def marcar_tarefa_realizada(tarefas):\n",
    "\n",
    "    listar_tarefas(tarefas)\n",
    "\n",
    "    print(\"\\nDigite o número da tarefa que deseja marcar como realizada: \")\n",
    "    tarefa = int(input())\n",
    "    \n",
    "    for i in range(len(tarefas)):\n",
    "        id, text = tarefas[i].split('.')\n",
    "        if int(id) == tarefa:\n",
    "            tarefas[i] = tarefas[i].replace('[ ]', '[x]')\n",
    "            tarefas.insert(0, tarefas.pop(i))\n",
    "            print(\"Tarefa realizada!!!\")\n",
    "            break"
   ]
  },
  {
   "cell_type": "markdown",
   "metadata": {},
   "source": [
    "### Editar uma tarefa"
   ]
  },
  {
   "cell_type": "code",
   "execution_count": 4,
   "metadata": {},
   "outputs": [],
   "source": [
    "def editar_tarefa(tarefas):\n",
    "    \n",
    "        listar_tarefas(tarefas)\n",
    "    \n",
    "        print(\"\\nDigite o número da tarefa que deseja editar: \")\n",
    "        tarefa = int(input())\n",
    "        \n",
    "        for i in range(len(tarefas)):\n",
    "            id, text = tarefas[i].split('.')\n",
    "            resto1, resto2 = text.split('[')\n",
    "            if int(id) == tarefa:\n",
    "                print(\"\\nDigite a nova tarefa: \")\n",
    "                tarefa = input()\n",
    "                resto1 = tarefa.capitalize()\n",
    "                tarefas[i] = f\"{id}. {resto1}[{resto2}\"\n",
    "                print(\"Tarefa editada!!!\")\n",
    "                break\n",
    "                "
   ]
  },
  {
   "cell_type": "markdown",
   "metadata": {},
   "source": [
    "### Executando o codigo"
   ]
  },
  {
   "cell_type": "code",
   "execution_count": 8,
   "metadata": {},
   "outputs": [
    {
     "name": "stdout",
     "output_type": "stream",
     "text": [
      "\n",
      "1. Listar tarefas\n",
      "2. Registrar nova tarefa\n",
      "3. Marcar tarefa como realizada\n",
      "4. Editar tarefa\n",
      "5. Sair\n",
      "\n",
      "Nenhuma tarefa cadastrada.\n",
      "\n",
      "1. Listar tarefas\n",
      "2. Registrar nova tarefa\n",
      "3. Marcar tarefa como realizada\n",
      "4. Editar tarefa\n",
      "5. Sair\n",
      "\n",
      "Digite a tarefa que deseja registrar: \n",
      "Tarefa registrada!!!\n",
      "\n",
      "1. Listar tarefas\n",
      "2. Registrar nova tarefa\n",
      "3. Marcar tarefa como realizada\n",
      "4. Editar tarefa\n",
      "5. Sair\n",
      "\n",
      "Digite a tarefa que deseja registrar: \n",
      "Tarefa registrada!!!\n",
      "\n",
      "1. Listar tarefas\n",
      "2. Registrar nova tarefa\n",
      "3. Marcar tarefa como realizada\n",
      "4. Editar tarefa\n",
      "5. Sair\n",
      "\n",
      "1. Tarefa 1[ ]\n",
      "2. Tarefa 2[ ]\n",
      "\n",
      "1. Listar tarefas\n",
      "2. Registrar nova tarefa\n",
      "3. Marcar tarefa como realizada\n",
      "4. Editar tarefa\n",
      "5. Sair\n",
      "\n",
      "1. Tarefa 1[ ]\n",
      "2. Tarefa 2[ ]\n",
      "\n",
      "Digite o número da tarefa que deseja editar: \n",
      "\n",
      "Digite a nova tarefa: \n",
      "Tarefa editada!!!\n",
      "\n",
      "1. Listar tarefas\n",
      "2. Registrar nova tarefa\n",
      "3. Marcar tarefa como realizada\n",
      "4. Editar tarefa\n",
      "5. Sair\n",
      "\n",
      "1. Tarefa 1[ ]\n",
      "2. Tarefa 3[ ]\n",
      "\n",
      "1. Listar tarefas\n",
      "2. Registrar nova tarefa\n",
      "3. Marcar tarefa como realizada\n",
      "4. Editar tarefa\n",
      "5. Sair\n",
      "\n",
      "1. Tarefa 1[ ]\n",
      "2. Tarefa 3[ ]\n",
      "\n",
      "Digite o número da tarefa que deseja marcar como realizada: \n",
      "Tarefa realizada!!!\n",
      "\n",
      "1. Listar tarefas\n",
      "2. Registrar nova tarefa\n",
      "3. Marcar tarefa como realizada\n",
      "4. Editar tarefa\n",
      "5. Sair\n",
      "\n",
      "2. Tarefa 3[x]\n",
      "1. Tarefa 1[ ]\n",
      "\n",
      "1. Listar tarefas\n",
      "2. Registrar nova tarefa\n",
      "3. Marcar tarefa como realizada\n",
      "4. Editar tarefa\n",
      "5. Sair\n"
     ]
    }
   ],
   "source": [
    "def main():\n",
    "    tarefas = []\n",
    "    \n",
    "    while True:\n",
    "        print(\"\\n1. Listar tarefas\")\n",
    "        print(\"2. Registrar nova tarefa\")\n",
    "        print(\"3. Marcar tarefa como realizada\")\n",
    "        print(\"4. Editar tarefa\")\n",
    "        print(\"5. Sair\")\n",
    "\n",
    "        choice = input(\"Escolha uma opção: \")\n",
    "\n",
    "        if choice == \"1\":\n",
    "            listar_tarefas(tarefas)\n",
    "        elif choice == \"2\":\n",
    "            registrar_tarefa(tarefas)\n",
    "        elif choice == \"3\":\n",
    "            marcar_tarefa_realizada(tarefas)\n",
    "        elif choice == \"4\":\n",
    "            editar_tarefa(tarefas)\n",
    "        elif choice == \"5\":\n",
    "            break\n",
    "        else:\n",
    "            print(\"Opção inválida. Tente novamente.\")\n",
    "\n",
    "if __name__ == \"__main__\":\n",
    "    main()\n"
   ]
  },
  {
   "cell_type": "markdown",
   "metadata": {},
   "source": [
    "## Exercício 2: Pesquisa sobre persistência de dados"
   ]
  },
  {
   "cell_type": "markdown",
   "metadata": {},
   "source": [
    "### Agora irei refatorar o codigo feito no exercicio 1 para funcionar com persistencia de dados"
   ]
  },
  {
   "cell_type": "code",
   "execution_count": 9,
   "metadata": {},
   "outputs": [
    {
     "name": "stdout",
     "output_type": "stream",
     "text": [
      "\n",
      "1. Listar tarefas\n",
      "2. Registrar nova tarefa\n",
      "3. Marcar tarefa como realizada\n",
      "4. Editar tarefa\n",
      "5. Sair\n"
     ]
    },
    {
     "name": "stdout",
     "output_type": "stream",
     "text": [
      "\n",
      "2. Tarefa 3[x]\n",
      "1. Tarefa 1[ ]\n",
      "\n",
      "1. Listar tarefas\n",
      "2. Registrar nova tarefa\n",
      "3. Marcar tarefa como realizada\n",
      "4. Editar tarefa\n",
      "5. Sair\n",
      "Opção inválida. Tente novamente.\n",
      "\n",
      "1. Listar tarefas\n",
      "2. Registrar nova tarefa\n",
      "3. Marcar tarefa como realizada\n",
      "4. Editar tarefa\n",
      "5. Sair\n"
     ]
    }
   ],
   "source": [
    "def listar_tarefas(tarefas):\n",
    "    print()\n",
    "    if len(tarefas) == 0:\n",
    "        print('Nenhuma tarefa cadastrada.')\n",
    "    else:\n",
    "        for tarefa in tarefas:\n",
    "            print(tarefa)\n",
    "\n",
    "def registrar_tarefa(tarefas):\n",
    "    id_tarefa = len(tarefas) + 1\n",
    "    print(\"\\nDigite a tarefa que deseja registrar: \")\n",
    "    tarefa = input()\n",
    "    \n",
    "    tarefa = tarefa.capitalize() + '[ ]'\n",
    "    tarefas.append(f\"{id_tarefa}. {tarefa}\")\n",
    "\n",
    "    atualizar_arquivo(tarefas)\n",
    "    print(\"Tarefa registrada!!!\")\n",
    "\n",
    "def marcar_tarefa_realizada(tarefas):\n",
    "\n",
    "    listar_tarefas(tarefas)\n",
    "\n",
    "    print(\"\\nDigite o número da tarefa que deseja marcar como realizada: \")\n",
    "    tarefa = int(input())\n",
    "    \n",
    "    for i in range(len(tarefas)):\n",
    "        id, text = tarefas[i].split('.')\n",
    "        if int(id) == tarefa:\n",
    "            tarefas[i] = tarefas[i].replace('[ ]', '[x]')\n",
    "            tarefas.insert(0, tarefas.pop(i))\n",
    "            atualizar_arquivo(tarefas)\n",
    "            print(\"Tarefa realizada!!!\")\n",
    "            break\n",
    "\n",
    "def editar_tarefa(tarefas):\n",
    "    \n",
    "        listar_tarefas(tarefas)\n",
    "    \n",
    "        print(\"\\nDigite o número da tarefa que deseja editar: \")\n",
    "        tarefa = int(input())\n",
    "        \n",
    "        for i in range(len(tarefas)):\n",
    "            id, text = tarefas[i].split('.')\n",
    "            resto1, resto2 = text.split('[')\n",
    "            if int(id) == tarefa:\n",
    "                print(\"\\nDigite a nova tarefa: \")\n",
    "                tarefa = input()\n",
    "                resto1 = tarefa.capitalize()\n",
    "                tarefas[i] = f\"{id}. {resto1}[{resto2}\"\n",
    "                atualizar_arquivo(tarefas)\n",
    "                print(\"Tarefa editada!!!\")\n",
    "                break\n",
    "\n",
    "def atualizar_arquivo(tarefas):\n",
    "    with open(\"listaDeTarefas.txt\", \"w\") as file:\n",
    "        for tarefa in tarefas:\n",
    "            file.write(tarefa + \"\\n\")\n",
    "\n",
    "def main():\n",
    "    tarefas = []\n",
    "    \n",
    "    while True:\n",
    "        \n",
    "        with open(\"listaDeTarefas.txt\", \"r\") as file:\n",
    "            tarefas = file.read().splitlines()\n",
    "\n",
    "        print(\"\\n1. Listar tarefas\")\n",
    "        print(\"2. Registrar nova tarefa\")\n",
    "        print(\"3. Marcar tarefa como realizada\")\n",
    "        print(\"4. Editar tarefa\")\n",
    "        print(\"5. Sair\")\n",
    "\n",
    "        choice = input(\"Escolha uma opção: \")\n",
    "\n",
    "        if choice == \"1\":\n",
    "            listar_tarefas(tarefas)\n",
    "        elif choice == \"2\":\n",
    "            registrar_tarefa(tarefas)\n",
    "        elif choice == \"3\":\n",
    "            marcar_tarefa_realizada(tarefas)\n",
    "        elif choice == \"4\":\n",
    "            editar_tarefa(tarefas)\n",
    "        elif choice == \"5\":\n",
    "            break\n",
    "        else:\n",
    "            print(\"Opção inválida. Tente novamente.\")\n",
    "    \n",
    "            \n",
    "if __name__ == \"__main__\":\n",
    "    main()"
   ]
  }
 ],
 "metadata": {
  "kernelspec": {
   "display_name": "Python 3",
   "language": "python",
   "name": "python3"
  },
  "language_info": {
   "codemirror_mode": {
    "name": "ipython",
    "version": 3
   },
   "file_extension": ".py",
   "mimetype": "text/x-python",
   "name": "python",
   "nbconvert_exporter": "python",
   "pygments_lexer": "ipython3",
   "version": "3.11.5"
  },
  "orig_nbformat": 4
 },
 "nbformat": 4,
 "nbformat_minor": 2
}
