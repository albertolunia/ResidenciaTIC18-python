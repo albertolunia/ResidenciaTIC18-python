{
 "cells": [
  {
   "cell_type": "markdown",
   "metadata": {},
   "source": [
    "# INSTRUÇÃO PRÁTICA PP-P002"
   ]
  },
  {
   "cell_type": "markdown",
   "metadata": {},
   "source": [
    "Objetivos:\n",
    "\n",
    "<p> Dominar as características básicas dos tipos de dados\n",
    "avançados: dicionários e conjuntos </p>\n",
    "\n",
    "<p> Explorar a implementação e o uso de estruturas de controle\n",
    "de fluxo, estruturas condicionais e de repetição, em python </p>"
   ]
  },
  {
   "cell_type": "markdown",
   "metadata": {},
   "source": [
    "## Exercício 1: Utilizando estruturas de controle de fluxo e listas.\n",
    "\n",
    "<p>Para controlar os compromissos do dia a dia podemos utilizar um uma lista de\n",
    "tarefas. Com alguns dos recursos básicos da linguagem que já conhecemos podemos\n",
    "implementar o aplicativo ToDoList que permita:</p>\n",
    "\n",
    "<p>Listar as tarefas que estão registradas.</p>"
   ]
  },
  {
   "cell_type": "code",
   "execution_count": 2,
   "metadata": {},
   "outputs": [],
   "source": [
    "def listar_tarefas(lista_tarefas_completas, lista_tarefas_pendentes):\n",
    "    cont = 0\n",
    "\n",
    "    for tarefa in lista_tarefas_completas:\n",
    "        print(f\"{cont + 1}. {tarefa} [x]\")\n",
    "        cont += 1\n",
    "    \n",
    "    for tarefa in lista_tarefas_pendentes:\n",
    "        print(f\"{cont + 1}. {tarefa} [ ]\")\n",
    "        cont += 1\n",
    "\n",
    "lista_tarefas_completas = ['Preparar Marmita']\n",
    "lista_tarefas_pendentes = ['Arrumar a mochila', 'Fechar as janelas']\n",
    "\n",
    "listar_tarefas(lista_tarefas_completas, lista_tarefas_pendentes)\n"
   ]
  }
 ],
 "metadata": {
  "kernelspec": {
   "display_name": "Python 3",
   "language": "python",
   "name": "python3"
  },
  "language_info": {
   "codemirror_mode": {
    "name": "ipython",
    "version": 3
   },
   "file_extension": ".py",
   "mimetype": "text/x-python",
   "name": "python",
   "nbconvert_exporter": "python",
   "pygments_lexer": "ipython3",
   "version": "3.11.5"
  },
  "orig_nbformat": 4
 },
 "nbformat": 4,
 "nbformat_minor": 2
}
