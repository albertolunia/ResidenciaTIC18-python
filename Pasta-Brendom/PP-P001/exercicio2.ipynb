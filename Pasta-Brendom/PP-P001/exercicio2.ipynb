{
 "cells": [
  {
   "cell_type": "markdown",
   "metadata": {},
   "source": [
    "### Adicao (+), Subtracao (-), Multiplicacao (*) e Divisao (/), Divisao Inteira (//), Modulo (%), Exponenciacao (**)"
   ]
  },
  {
   "cell_type": "code",
   "execution_count": null,
   "metadata": {},
   "outputs": [],
   "source": [
    "adicao = 5 + 7\n",
    "subtracao = 8 - 2\n",
    "multiplicacao = 3 * 6\n",
    "divisao = 8 / 2\n",
    "divisaoInteira = 7 // 2\n",
    "modulo = 9 % 2;\n",
    "exponenciacao = 2 ** 5\n",
    "\n",
    "print(\"5 + 7 =\", adicao)\n",
    "print(\"8 - 2 =\", subtracao)\n",
    "print(\"3 * 6 =\", multiplicacao)\n",
    "print(\"8 / 2 =\", divisao)\n",
    "print(\"7 // 2 = \", divisaoInteira)\n",
    "print(\"9 % 2 = \", modulo)\n",
    "print(\"2^5 = \", exponenciacao)"
   ]
  },
  {
   "cell_type": "markdown",
   "metadata": {},
   "source": [
    "### Atribuicoes com: adicao, subtracao, multiplicacao e divisao"
   ]
  },
  {
   "cell_type": "code",
   "execution_count": null,
   "metadata": {},
   "outputs": [],
   "source": [
    "h = 10 # 10\n",
    "h += 3 # 13\n",
    "h -= 3 # 10\n",
    "h *= 1 # 10\n",
    "h /= 2 # 5\n",
    "print(h)"
   ]
  },
  {
   "cell_type": "markdown",
   "metadata": {},
   "source": [
    "### Diferencas em comparacao com Python"
   ]
  },
  {
   "cell_type": "code",
   "execution_count": null,
   "metadata": {},
   "outputs": [],
   "source": [
    "# Divisao padrao retorna ponto flutuante\n",
    "print(5 / 2)\n",
    "\n",
    "# Divsao inteira com //\n",
    "print(5 // 2)\n",
    "\n",
    "# Typagem dinamica\n",
    "y = 5\n",
    "y = \"HelloWorld\"\n",
    "print(y)\n",
    "\n",
    "# Operacoes entre tipos diferentes\n",
    "print(5 + 2.5)\n",
    "\n",
    "# Expressoes matematicas mais concisas\n",
    "a = 2\n",
    "b = 6\n",
    "print(a ** 2 + b / 3)"
   ]
  },
  {
   "cell_type": "markdown",
   "metadata": {},
   "source": [
    "### Calculo do fatorial de 30 e demonstracao com os maiores valores em C++"
   ]
  },
  {
   "cell_type": "code",
   "execution_count": null,
   "metadata": {},
   "outputs": [],
   "source": [
    "def fatorial(x):\n",
    "    if x == 0 or x == 1: return 1\n",
    "    else: return x * fatorial(x-1)\n",
    "\n",
    "resultado = fatorial(30)\n",
    "\n",
    "print(f\"Fatorial de 30 em Python: {resultado}\")\n",
    "maiorValor32 = 2**31 - 1\n",
    "maiorValor64 = 2**63 - 1\n",
    "\n",
    "print(f\"Maior valor inteiro em C/C++ (32 bits): {maiorValor32}\")\n",
    "print(f\"Maior valor inteiro em C/C++ (64 bits): {maiorValor64}\")"
   ]
  },
  {
   "cell_type": "markdown",
   "metadata": {},
   "source": [
    "### Demonstracao da imutabilidade das variaveis numericas em python"
   ]
  },
  {
   "cell_type": "code",
   "execution_count": null,
   "metadata": {},
   "outputs": [],
   "source": [
    "p = 5\n",
    "p += 3\n",
    "print(\"Valor original de x:\", p)\n",
    "\n",
    "q = 3.14\n",
    "q *= 2\n",
    "print(\"Valor original de y:\", q)"
   ]
  },
  {
   "cell_type": "markdown",
   "metadata": {},
   "source": [
    "#### Metodos disponíveis para \"int\": as_integer_ratio, bit_count, bit_length, conjugate, denominator, from_bytes, imag, numerator, real, to_bytes]"
   ]
  }
 ],
 "metadata": {
  "kernelspec": {
   "display_name": "Python 3",
   "language": "python",
   "name": "python3"
  },
  "language_info": {
   "codemirror_mode": {
    "name": "ipython",
    "version": 3
   },
   "file_extension": ".py",
   "mimetype": "text/x-python",
   "name": "python",
   "nbconvert_exporter": "python",
   "pygments_lexer": "ipython3",
   "version": "3.10.12"
  }
 },
 "nbformat": 4,
 "nbformat_minor": 2
}
