{
 "cells": [
  {
   "cell_type": "markdown",
   "metadata": {},
   "source": [
    "### ITEM 1"
   ]
  },
  {
   "cell_type": "code",
   "execution_count": null,
   "metadata": {},
   "outputs": [],
   "source": [
    "for i in range(48, 58):\n",
    "  print(\"'\" + chr(i) + \"' - \" + str(i))"
   ]
  },
  {
   "cell_type": "markdown",
   "metadata": {},
   "source": [
    "### ITEM 2"
   ]
  },
  {
   "cell_type": "code",
   "execution_count": null,
   "metadata": {},
   "outputs": [],
   "source": [
    "print(\"Decimal\")\n",
    "for i in range(48, 58):\n",
    "  print(\"'\" + chr(i) + \"' - \" + str(i))\n",
    "print(\"Octal\")\n",
    "for i in range(48, 58):\n",
    "  print(\"'\" + oct(i) + \"' - \" + str(i))\n",
    "print(\"Hexadecimal\")\n",
    "for i in range(48, 58):\n",
    "  print(\"'\" + hex(i) + \"' - \" + str(i))"
   ]
  },
  {
   "cell_type": "markdown",
   "metadata": {},
   "source": [
    "### ITEM 3"
   ]
  },
  {
   "cell_type": "code",
   "execution_count": null,
   "metadata": {},
   "outputs": [],
   "source": [
    "caractere = input(\"Digite um caractere: \")\n",
    "\n",
    "print(\"Caractere: \" + caractere)\n",
    "\n",
    "decimal = ord(caractere)\n",
    "octal = oct(decimal)\n",
    "hexadecimal = hex(decimal)\n",
    "print(f\"Decimal: {decimal}\")\n",
    "print(f\"Octal: {octal}\")\n",
    "print(f\"Hexadecimal: {hexadecimal}\")"
   ]
  },
  {
   "cell_type": "markdown",
   "metadata": {},
   "source": [
    "### ITEM 4"
   ]
  },
  {
   "cell_type": "code",
   "execution_count": null,
   "metadata": {},
   "outputs": [],
   "source": [
    "caractere2 = 'ç'\n",
    "caracterke3 = 'ã'\n",
    "\n",
    "print(\"Caracteres: \" + caractere2 + \" e \" + caractere3)\n",
    "\n",
    "decimal2 = ord(caractere2)\n",
    "decimal3 = ord(caractere3)\n",
    "\n",
    "octal2 = oct(decimal2)\n",
    "octal3 = oct(decimal3)\n",
    "\n",
    "hexadecimal2 = hex(decimal2)\n",
    "hexadecimal3 = hex(decimal3)\n",
    "\n",
    "print(f\"Decimal: {decimal2} e {decimal3}\")\n",
    "print(f\"Octal: {octal2} e {octal3}\")\n",
    "print(f\"Hexadecimal: {hexadecimal2} e {hexadecimal3}\")"
   ]
  }
 ],
 "metadata": {
  "kernelspec": {
   "display_name": "Python 3",
   "language": "python",
   "name": "python3"
  },
  "language_info": {
   "codemirror_mode": {
    "name": "ipython",
    "version": 3
   },
   "file_extension": ".py",
   "mimetype": "text/x-python",
   "name": "python",
   "nbconvert_exporter": "python",
   "pygments_lexer": "ipython3",
   "version": "3.10.12"
  }
 },
 "nbformat": 4,
 "nbformat_minor": 2
}
