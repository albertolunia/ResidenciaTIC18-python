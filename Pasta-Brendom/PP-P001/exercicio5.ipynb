{
 "cells": [
  {
   "cell_type": "markdown",
   "metadata": {},
   "source": [
    "### (ITEM 1) Adicao (+), Subtracao (-), Multiplicacao (*), Divisao (/), Divisao Inteira (//), Modulo (%), Exponenciacao (**)"
   ]
  },
  {
   "cell_type": "code",
   "execution_count": 2,
   "metadata": {},
   "outputs": [],
   "source": [
    "a = 3.5\n",
    "b = 1.2\n",
    "\n",
    "adicao = a + b\n",
    "subtracao = a - b\n",
    "multiplicacao = a * b\n",
    "divisao = a / b\n",
    "divisaInteira = a // b\n",
    "modulo = a % b\n",
    "exponenciacao = a ** b"
   ]
  },
  {
   "cell_type": "markdown",
   "metadata": {},
   "source": [
    "### (ITEM 1) Operadores compostos"
   ]
  },
  {
   "cell_type": "code",
   "execution_count": 4,
   "metadata": {},
   "outputs": [],
   "source": [
    "a = 2.5\n",
    "a += 1.0  # a: a = a + 1.0\n",
    "\n",
    "a = 5.0\n",
    "a -= 2.0  # a: a = a - 2.0\n",
    "\n",
    "a = 3.0\n",
    "a *= 2.0  # a: a = a * 2.0\n",
    "\n",
    "a = 8.0\n",
    "a /= 4.0  # a: a = a / 4.0\n"
   ]
  },
  {
   "cell_type": "markdown",
   "metadata": {},
   "source": [
    "### (ITEM 2) Mostre qual a maior e amenor potência de 2 que pode ser representada com variáveis de ponto flutuante"
   ]
  },
  {
   "cell_type": "code",
   "execution_count": null,
   "metadata": {},
   "outputs": [],
   "source": [
    "import sys\n",
    "\n",
    "# Maior potência de 2\n",
    "maiorPotencia = 2.0 ** (sys.float_info.max_exp - 1023)\n",
    "print(\"Maior potência de 2 representável:\", maiorPotencia)\n",
    "\n",
    "# Menor potência de 2\n",
    "menorPotencia = 2.0 ** (sys.float_info.min_exp - 1022)\n",
    "print(\"Menor potência de 2 representável:\", menorPotencia)"
   ]
  },
  {
   "cell_type": "markdown",
   "metadata": {},
   "source": [
    "### ITEM 3 Exemplo de imutabilidade"
   ]
  },
  {
   "cell_type": "code",
   "execution_count": null,
   "metadata": {},
   "outputs": [],
   "source": [
    "def incrementar(numero):\n",
    "    numero = numero + 1\n",
    "    print(numero)\n",
    "\n",
    "x = 5\n",
    "incrementar(x)\n",
    "print(x)"
   ]
  },
  {
   "cell_type": "markdown",
   "metadata": {},
   "source": [
    "### ITEM 4"
   ]
  },
  {
   "cell_type": "code",
   "execution_count": null,
   "metadata": {},
   "outputs": [],
   "source": [
    "# 'as_integer_ratio',\n",
    "# 'conjugate',\n",
    "# 'fromhex', \n",
    "# 'hex', \n",
    "# 'imag', \n",
    "# 'is_integer', \n",
    "# 'real'"
   ]
  }
 ],
 "metadata": {
  "kernelspec": {
   "display_name": "Python 3",
   "language": "python",
   "name": "python3"
  },
  "language_info": {
   "codemirror_mode": {
    "name": "ipython",
    "version": 3
   },
   "file_extension": ".py",
   "mimetype": "text/x-python",
   "name": "python",
   "nbconvert_exporter": "python",
   "pygments_lexer": "ipython3",
   "version": "3.10.12"
  }
 },
 "nbformat": 4,
 "nbformat_minor": 2
}
