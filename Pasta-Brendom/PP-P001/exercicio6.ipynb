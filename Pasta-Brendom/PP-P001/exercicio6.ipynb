{
 "cells": [
  {
   "cell_type": "code",
   "execution_count": null,
   "metadata": {},
   "outputs": [],
   "source": [
    "L = [1, 2, 3, 4, 5, 6, 7, 8, 9]\n",
    "print(L[::-1])\n",
    "print(L[-1::])\n",
    "print(L[:-1:])\n",
    "print(L[::-2])\n",
    "print(L[-2::])\n",
    "print(L[:-2:])"
   ]
  },
  {
   "cell_type": "code",
   "execution_count": null,
   "metadata": {},
   "outputs": [],
   "source": [
    "anoNascimento = int(input(\"Digite seu ano de nascimento: \"))\n",
    "Signos = [\"Macaco\", \"Galo\", \"Cao\", \"Porco\", \"Rato\", \"Boi\", \"Tigre\", \"Coelho\", \"Dragao\", \"Serpente\", \"Cavalo\", \"Carneiro\"]\n",
    "cSigno = anoNascimento % 12\n",
    "match cSigno:\n",
    "  case 0:\n",
    "    print(\"Seu signo eh \" + Signos[cSigno])\n",
    "  case 1:\n",
    "    print(\"Seu signo eh \" + Signos[cSigno])\n",
    "  case 2:\n",
    "    print(\"Seu signo eh \" + Signos[cSigno])\n",
    "  case 3:\n",
    "    print(\"Seu signo eh \" + Signos[cSigno])\n",
    "  case 4:\n",
    "    print(\"Seu signo eh \" + Signos[cSigno])\n",
    "  case 5:\n",
    "    print(\"Seu signo eh \" + Signos[cSigno])\n",
    "  case 6:\n",
    "    print(\"Seu signo eh \" + Signos[cSigno])\n",
    "  case 7:\n",
    "    print(\"Seu signo eh \" + Signos[cSigno])\n",
    "  case 8:\n",
    "    print(\"Seu signo eh \" + Signos[cSigno])\n",
    "  case 9:\n",
    "    print(\"Seu signo eh \" + Signos[cSigno])\n",
    "  case 10:\n",
    "    print(\"Seu signo eh \" + Signos[cSigno])\n",
    "  case 11:\n",
    "    print(\"Seu signo eh \" + Signos[cSigno])\n",
    "  case 12:\n",
    "    print(\"Seu signo eh \" + Signos[cSigno])"
   ]
  },
  {
   "cell_type": "code",
   "execution_count": null,
   "metadata": {},
   "outputs": [],
   "source": []
  }
 ],
 "metadata": {
  "kernelspec": {
   "display_name": "Python 3",
   "language": "python",
   "name": "python3"
  },
  "language_info": {
   "codemirror_mode": {
    "name": "ipython",
    "version": 3
   },
   "file_extension": ".py",
   "mimetype": "text/x-python",
   "name": "python",
   "nbconvert_exporter": "python",
   "pygments_lexer": "ipython3",
   "version": "3.10.12"
  }
 },
 "nbformat": 4,
 "nbformat_minor": 2
}
